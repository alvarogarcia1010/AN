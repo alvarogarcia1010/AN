{
 "cells": [
  {
   "cell_type": "markdown",
   "metadata": {},
   "source": [
    "# Interpolación trigonometrica\n",
    "\n",
    "## Caso discreto\n",
    "\n",
    "Iniciaremos nuestro estudio con el método de aproximación trigonométrica de mínimos cuadrados discretos.\n",
    "\n",
    "Para simplificar el proceso usaremos el intervalo: $[-π,π]$\n",
    "\n",
    "El objetivo en este caso consiste en determinar el polinomio trigonométrico:\n",
    "\n",
    "$$ S_{n}(x) =$$\n",
    "\n",
    "Donde:\n",
    "\n",
    "$ a_{k} = \\frac{1}{m} \\sum_{j=0}^{2m-1} y_{j}cos(kx_{j})$ para $k = 0,1,2,3,...,n$\n",
    "\n",
    "y \n",
    "\n",
    "$ b_{k} =\\frac{1}{m} \\sum_{j=0}^{2m-1} y_{j}sen(kx_{j})$ para $k = 1,2,3,...,n-1$"
   ]
  },
  {
   "cell_type": "markdown",
   "metadata": {},
   "source": [
    "### Ejemplo\n",
    "\n",
    "Sea $ F(x) = sin( \\frac{1}{2}x) + cos( \\frac{1}{3}x) $ , para obtener la aproximación de mínimos cuadrados discretos $ S_{3}(x) $ donde $ 2m-1 = 11 $ en el intervalo de $[-π,π]$.\n"
   ]
  },
  {
   "cell_type": "code",
   "execution_count": 141,
   "metadata": {},
   "outputs": [],
   "source": [
    " # Usaremos SymPy como herramienta para realizar manipulaciones simbólicas\n",
    "from sympy import *\n",
    "\n",
    "# Las siguientes dos librerías serán utilizadas para graficar\n",
    "import numpy as np\n",
    "import matplotlib.pyplot as plt;\n",
    "\n",
    "# Usaremos lo siguiente para mostrar los polinomios\n",
    "from sympy.interactive import printing;\n",
    "printing.init_printing(use_latex=True);\n",
    "from IPython.display import display, Latex"
   ]
  },
  {
   "cell_type": "markdown",
   "metadata": {},
   "source": [
    "Definimos la funcion que queremos interpolar:"
   ]
  },
  {
   "cell_type": "code",
   "execution_count": 142,
   "metadata": {},
   "outputs": [],
   "source": [
    "def f(x):\n",
    "    return sin((1/2)*x) + 2*cos((1/3)*x)"
   ]
  },
  {
   "cell_type": "markdown",
   "metadata": {},
   "source": [
    "Definimos una funcion para calcular $x_{j} = π(\\frac{j}{m} -1)$ "
   ]
  },
  {
   "cell_type": "code",
   "execution_count": 143,
   "metadata": {},
   "outputs": [],
   "source": [
    "def xj(j):\n",
    "    return pi*((j/m)-1)"
   ]
  },
  {
   "cell_type": "markdown",
   "metadata": {},
   "source": [
    "Definimos una funcion para calcular $y_{j} = F(xj)$ "
   ]
  },
  {
   "cell_type": "code",
   "execution_count": 144,
   "metadata": {},
   "outputs": [],
   "source": [
    "def yj(j):\n",
    "    return f(xjArray[j])"
   ]
  },
  {
   "cell_type": "markdown",
   "metadata": {},
   "source": [
    "El polinomio trigonomético de mínimos cuadrados es:\n",
    "\n",
    "$$ S_{3}(x) = \\frac{a_{0}}{2} + a_{3}cos(3x) + \\sum_{k=1}^{2}a_{k}cos(kx) + b_{k}sen(kx)$$\n"
   ]
  },
  {
   "cell_type": "code",
   "execution_count": 145,
   "metadata": {},
   "outputs": [],
   "source": [
    "x = Symbol('x')\n",
    "\n",
    "def PolinomioResultante(ak,bk):\n",
    "    \n",
    "    coef = np.append(ak,bk)\n",
    "    \n",
    "    s = coef[0] / 2\n",
    "    \n",
    "    for k in range (1, n + 1):\n",
    "        s += coef[k] * cos(k * x)\n",
    "        if(k + n < m):\n",
    "            s += coef[k + n] * sin(k * x)\n",
    "    return s"
   ]
  },
  {
   "cell_type": "markdown",
   "metadata": {},
   "source": [
    "Declaramos el grado del polinomio y el numero de puntos a utilizar"
   ]
  },
  {
   "cell_type": "code",
   "execution_count": 146,
   "metadata": {},
   "outputs": [],
   "source": [
    "#Declaramos el grado del polinomio\n",
    "n = 3\n",
    "#Declaramos el numero de puntos a utilizar\n",
    "m = 6"
   ]
  },
  {
   "cell_type": "markdown",
   "metadata": {},
   "source": [
    "Ahora procedemos a calcular la aproximacion "
   ]
  },
  {
   "cell_type": "code",
   "execution_count": 147,
   "metadata": {},
   "outputs": [],
   "source": [
    "#Declaraciones de arreglos donde guardaremos los xj y yj\n",
    "xjArray = []\n",
    "yjArray = []\n",
    "\n",
    "#Declaraciones de arreglos donde guardaremos los ak y bk resultantes\n",
    "ak = []\n",
    "bk = []\n",
    "\n",
    "for j in range(0, (2*m)):\n",
    "    xjArray.append(xj(j))\n",
    "    yjArray.append(yj(j))"
   ]
  },
  {
   "cell_type": "markdown",
   "metadata": {},
   "source": [
    "Donde $a_{k} = \\frac{1}{6} \\sum_{j=0}^{11} y_{j}cos(kx_{j})$ para $k = 0,1,2,3$"
   ]
  },
  {
   "cell_type": "code",
   "execution_count": 148,
   "metadata": {},
   "outputs": [],
   "source": [
    "for k in range(0, (n+1)):\n",
    "    aux = 0\n",
    "    for h in range(0, (2*m)):\n",
    "        aux += yjArray[h]*cos(k*xjArray[h])\n",
    "    aux *= (1/m)\n",
    "\n",
    "    ak.append(aux)"
   ]
  },
  {
   "cell_type": "markdown",
   "metadata": {},
   "source": [
    "y $ b_{k} =\\frac{1}{6} \\sum_{j=0}^{11} y_{j}sen(kx_{j})$ para $k = 1,2 $"
   ]
  },
  {
   "cell_type": "code",
   "execution_count": 149,
   "metadata": {},
   "outputs": [],
   "source": [
    "for k in range(1, n):\n",
    "    aux = 0\n",
    "    for h in range(0, (2*m)):\n",
    "        aux += yjArray[h]*sin(k*xjArray[h])\n",
    "    aux *= (1/m)\n",
    "\n",
    "    bk.append(aux)"
   ]
  },
  {
   "cell_type": "markdown",
   "metadata": {},
   "source": [
    "Sustituyendo para las $a_{k}$ tendremos:"
   ]
  },
  {
   "cell_type": "code",
   "execution_count": 150,
   "metadata": {},
   "outputs": [
    {
     "name": "stdout",
     "output_type": "stream",
     "text": [
      "a0: \t 3.13290522025871\n",
      "\n",
      "a1: \t 0.588681481039659\n",
      "\n",
      "a2: \t -0.270064169591672\n",
      "\n",
      "a3: \t 0.217567881555380\n",
      "\n"
     ]
    }
   ],
   "source": [
    "for i in range(0, len(ak)):\n",
    "    print(\"a\"+str(i) + \": \\t \" + str(ak[i].evalf()) + \"\\n\")"
   ]
  },
  {
   "cell_type": "markdown",
   "metadata": {},
   "source": [
    "Sustituyendo para las $b_{k}$ tendremos:"
   ]
  },
  {
   "cell_type": "code",
   "execution_count": 151,
   "metadata": {},
   "outputs": [
    {
     "name": "stdout",
     "output_type": "stream",
     "text": [
      "b1: \t 0.834163972924854\n",
      "\n",
      "b2: \t -0.309786577934525\n",
      "\n"
     ]
    }
   ],
   "source": [
    "for i in range(0, len(bk)):\n",
    "    print(\"b\"+str(i+1) + \": \\t \" + str(bk[i].evalf()) + \"\\n\")"
   ]
  },
  {
   "cell_type": "markdown",
   "metadata": {},
   "source": [
    "Así el polinomio resultante es:"
   ]
  },
  {
   "cell_type": "code",
   "execution_count": 152,
   "metadata": {},
   "outputs": [
    {
     "data": {
      "text/latex": [
       "$$ S_{3}(x) = 0.834163972924854 \\sin{\\left(x \\right)} - 0.309786577934525 \\sin{\\left(2 x \\right)} + 0.588681481039659 \\cos{\\left(x \\right)} - 0.270064169591672 \\cos{\\left(2 x \\right)} + 0.21756788155538 \\cos{\\left(3 x \\right)} + 1.56645261012936$$"
      ],
      "text/plain": [
       "<IPython.core.display.Latex object>"
      ]
     },
     "metadata": {},
     "output_type": "display_data"
    }
   ],
   "source": [
    "pol = PolinomioResultante(ak, bk)\n",
    "display(Latex('$$ S_{3}(x) = '+ latex(simplify(pol.evalf())) + '$$'))"
   ]
  },
  {
   "cell_type": "markdown",
   "metadata": {},
   "source": [
    "Ahora graficamos, usando las herramientas que ofrecen la librerías $\\texttt{matplotlib}$ y $\\texttt{numpy}$:"
   ]
  },
  {
   "cell_type": "code",
   "execution_count": 158,
   "metadata": {},
   "outputs": [
    {
     "data": {
      "image/png": "[encoded data removed]",
      "text/plain": [
       "<Figure size 720x720 with 1 Axes>"
      ]
     },
     "metadata": {
      "needs_background": "light"
     },
     "output_type": "display_data"
    }
   ],
   "source": [
    "#Declaracion de arreglo donde guardaremos los puntos de la funcion real para comparar el resultado.\n",
    "yReal = []\n",
    "\n",
    "coef = np.append(ak,bk)\n",
    "\n",
    "xE = np.array(xjArray)\n",
    "yE = np.array(yjArray)\n",
    "\n",
    "xv = np.linspace(-np.pi, np.pi, 100);\n",
    "\n",
    "for x in xv:\n",
    "    yReal.append(f(x))\n",
    "    \n",
    "fig, ax = plt.subplots(figsize=(10, 10));\n",
    "\n",
    "\n",
    "yReal = np.array(yReal)\n",
    "ax.plot(xE, yE, color='green')\n",
    "#ax.plot(xv, yReal, color='red')\n",
    "plt.show(); \n"
   ]
  }
 ],
 "metadata": {
  "kernelspec": {
   "display_name": "Python 3",
   "language": "python",
   "name": "python3"
  },
  "language_info": {
   "codemirror_mode": {
    "name": "ipython",
    "version": 3
   },
   "file_extension": ".py",
   "mimetype": "text/x-python",
   "name": "python",
   "nbconvert_exporter": "python",
   "pygments_lexer": "ipython3",
   "version": "3.6.8"
  }
 },
 "nbformat": 4,
 "nbformat_minor": 2
}
